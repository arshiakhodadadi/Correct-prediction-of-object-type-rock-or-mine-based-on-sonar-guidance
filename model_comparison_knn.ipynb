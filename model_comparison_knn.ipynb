{
 "cells": [
  {
   "cell_type": "code",
   "execution_count": null,
   "id": "25cf144c",
   "metadata": {},
   "outputs": [],
   "source": [
    "from numpy import mean \n",
    "from pandas import read_csv\n",
    "from sklearn.model_selection import cross_val_score ,RepeatedStratifiedKFold\n",
    "from sklearn.neighbors import KNeighborsClassifier\n",
    "from sklearn.preprocessing import LabelEncoder ,QuantileTransformer\n",
    "from sklearn.pipeline import Pipeline\n",
    "from matplotlib import pyplot"
   ]
  },
  {
   "cell_type": "code",
   "execution_count": 2,
   "id": "cc3e223f",
   "metadata": {},
   "outputs": [],
   "source": [
    "def get_dataset():\n",
    "    dataset = read_csv(r'C:\\Users\\ok\\Desktop\\pro\\python\\CSV dataset\\sonar.csv')\n",
    "    data = dataset.values\n",
    "    X = data[:,:-1]\n",
    "    y = data[:,-1]\n",
    "    X = X.astype('float32')\n",
    "    y = LabelEncoder().fit_transform(y.astype('str'))\n",
    "    return X,y"
   ]
  },
  {
   "cell_type": "code",
   "execution_count": 3,
   "id": "93607b98",
   "metadata": {},
   "outputs": [],
   "source": [
    "def get_model():\n",
    "    models = {}\n",
    "    for r in range(1,100):\n",
    "        transform = QuantileTransformer(n_quantiles=r,output_distribution='uniform')\n",
    "        model = KNeighborsClassifier()\n",
    "        models[str(r)] = Pipeline(steps=[('transformer',transform),('model',model)])\n",
    "    return models"
   ]
  },
  {
   "cell_type": "code",
   "execution_count": 4,
   "id": "4f6be947",
   "metadata": {},
   "outputs": [],
   "source": [
    "def evaluate_model(model,X,y):\n",
    "    cv = RepeatedStratifiedKFold(n_splits=10,n_repeats=3,random_state=87)\n",
    "    score = cross_val_score(model,X,y,cv=cv,scoring='accuracy',n_jobs=-1)\n",
    "    return score"
   ]
  },
  {
   "cell_type": "code",
   "execution_count": 5,
   "id": "9934cbaf",
   "metadata": {},
   "outputs": [],
   "source": [
    "X , y = get_dataset()\n",
    "models = get_model()\n",
    "results = []\n",
    "best_result = 0"
   ]
  },
  {
   "cell_type": "code",
   "execution_count": 6,
   "id": "5dd92c5e",
   "metadata": {},
   "outputs": [
    {
     "name": "stdout",
     "output_type": "stream",
     "text": [
      ">1 0.464 (0.464)\n",
      ">2 0.839 (0.839)\n",
      ">3 0.845 (0.845)\n",
      ">4 0.854 (0.854)\n",
      ">5 0.849 (0.849)\n",
      ">6 0.854 (0.854)\n",
      ">7 0.844 (0.844)\n",
      ">8 0.846 (0.846)\n",
      ">9 0.848 (0.848)\n",
      ">10 0.841 (0.841)\n",
      ">11 0.844 (0.844)\n",
      ">12 0.841 (0.841)\n",
      ">13 0.846 (0.846)\n",
      ">14 0.841 (0.841)\n",
      ">15 0.841 (0.841)\n",
      ">16 0.844 (0.844)\n",
      ">17 0.846 (0.846)\n",
      ">18 0.844 (0.844)\n",
      ">19 0.844 (0.844)\n",
      ">20 0.843 (0.843)\n",
      ">21 0.843 (0.843)\n",
      ">22 0.841 (0.841)\n",
      ">23 0.843 (0.843)\n",
      ">24 0.843 (0.843)\n",
      ">25 0.846 (0.846)\n",
      ">26 0.846 (0.846)\n",
      ">27 0.843 (0.843)\n",
      ">28 0.848 (0.848)\n",
      ">29 0.846 (0.846)\n",
      ">30 0.843 (0.843)\n",
      ">31 0.844 (0.844)\n",
      ">32 0.843 (0.843)\n",
      ">33 0.844 (0.844)\n",
      ">34 0.844 (0.844)\n",
      ">35 0.843 (0.843)\n",
      ">36 0.843 (0.843)\n",
      ">37 0.846 (0.846)\n",
      ">38 0.844 (0.844)\n",
      ">39 0.844 (0.844)\n",
      ">40 0.846 (0.846)\n",
      ">41 0.841 (0.841)\n",
      ">42 0.846 (0.846)\n",
      ">43 0.844 (0.844)\n",
      ">44 0.848 (0.848)\n",
      ">45 0.844 (0.844)\n",
      ">46 0.843 (0.843)\n",
      ">47 0.841 (0.841)\n",
      ">48 0.844 (0.844)\n",
      ">49 0.844 (0.844)\n",
      ">50 0.846 (0.846)\n",
      ">51 0.843 (0.843)\n",
      ">52 0.848 (0.848)\n",
      ">53 0.844 (0.844)\n",
      ">54 0.846 (0.846)\n",
      ">55 0.848 (0.848)\n",
      ">56 0.846 (0.846)\n",
      ">57 0.846 (0.846)\n",
      ">58 0.848 (0.848)\n",
      ">59 0.848 (0.848)\n",
      ">60 0.844 (0.844)\n",
      ">61 0.844 (0.844)\n",
      ">62 0.848 (0.848)\n",
      ">63 0.846 (0.846)\n",
      ">64 0.844 (0.844)\n",
      ">65 0.848 (0.848)\n",
      ">66 0.844 (0.844)\n",
      ">67 0.846 (0.846)\n",
      ">68 0.846 (0.846)\n",
      ">69 0.848 (0.848)\n",
      ">70 0.846 (0.846)\n",
      ">71 0.848 (0.848)\n",
      ">72 0.848 (0.848)\n",
      ">73 0.846 (0.846)\n",
      ">74 0.846 (0.846)\n",
      ">75 0.844 (0.844)\n",
      ">76 0.846 (0.846)\n",
      ">77 0.848 (0.848)\n",
      ">78 0.848 (0.848)\n",
      ">79 0.848 (0.848)\n",
      ">80 0.846 (0.846)\n",
      ">81 0.848 (0.848)\n",
      ">82 0.848 (0.848)\n",
      ">83 0.846 (0.846)\n",
      ">84 0.848 (0.848)\n",
      ">85 0.848 (0.848)\n",
      ">86 0.848 (0.848)\n",
      ">87 0.848 (0.848)\n",
      ">88 0.846 (0.846)\n",
      ">89 0.848 (0.848)\n",
      ">90 0.846 (0.846)\n",
      ">91 0.848 (0.848)\n",
      ">92 0.848 (0.848)\n",
      ">93 0.848 (0.848)\n",
      ">94 0.846 (0.846)\n",
      ">95 0.846 (0.846)\n",
      ">96 0.846 (0.846)\n",
      ">97 0.848 (0.848)\n",
      ">98 0.848 (0.848)\n",
      ">99 0.848 (0.848)\n",
      "best_result : 0.854\n"
     ]
    }
   ],
   "source": [
    "for name ,model in models.items():\n",
    "    scores = evaluate_model(model,X,y)\n",
    "    mean_scores = mean(scores)\n",
    "    std_scores = mean(scores)\n",
    "    best_result = best_result if best_result > mean_scores else mean_scores\n",
    "    results.append(mean_scores)\n",
    "    print('>%s %.3f (%.3f)' % (name ,mean_scores ,std_scores))\n",
    "print('best_result : %.3f'% (best_result))"
   ]
  },
  {
   "cell_type": "code",
   "execution_count": 7,
   "id": "0184c7e7",
   "metadata": {},
   "outputs": [
    {
     "data": {
      "text/plain": [
       "<matplotlib.legend.Legend at 0x22b599597f0>"
      ]
     },
     "execution_count": 7,
     "metadata": {},
     "output_type": "execute_result"
    },
    {
     "data": {
      "image/png": "[encoded data removed]",
      "text/plain": [
       "<Figure size 640x480 with 1 Axes>"
      ]
     },
     "metadata": {},
     "output_type": "display_data"
    }
   ],
   "source": [
    "pyplot.plot(results,marker ='o',linestyle ='-')\n",
    "max_idex = results.index(best_result)\n",
    "pyplot.axvline(x = max_idex,color = 'y',linestyle ='--',label = 'best_result')\n",
    "text_X = max_idex + 1.5\n",
    "text_y = best_result - 0.1\n",
    "pyplot.text(text_X,text_y,f'best_result : {best_result:.3f}',color = 'red' ,ha = 'left' ,va = 'bottom')\n",
    "pyplot.xlabel('n_quantiles')\n",
    "pyplot.ylabel('Mean Score')\n",
    "pyplot.title('Model Performance Comparison')\n",
    "pyplot.legend()"
   ]
  }
 ],
 "metadata": {
  "kernelspec": {
   "display_name": "Python 3",
   "language": "python",
   "name": "python3"
  },
  "language_info": {
   "codemirror_mode": {
    "name": "ipython",
    "version": 3
   },
   "file_extension": ".py",
   "mimetype": "text/x-python",
   "name": "python",
   "nbconvert_exporter": "python",
   "pygments_lexer": "ipython3",
   "version": "3.13.3"
  }
 },
 "nbformat": 4,
 "nbformat_minor": 5
}
